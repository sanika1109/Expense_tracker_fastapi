{
 "cells": [
  {
   "cell_type": "code",
   "execution_count": 2,
   "id": "8098cb63",
   "metadata": {},
   "outputs": [],
   "source": [
    "import json"
   ]
  },
  {
   "cell_type": "code",
   "execution_count": 4,
   "id": "3f845a69",
   "metadata": {},
   "outputs": [],
   "source": [
    "def load_data():\n",
    "        with open('expenses.json') as f:\n",
    "             data=json.load(f)\n",
    "        return data\n"
   ]
  },
  {
   "cell_type": "code",
   "execution_count": 5,
   "id": "47d29cee",
   "metadata": {},
   "outputs": [
    {
     "name": "stdout",
     "output_type": "stream",
     "text": [
      "{'E005': {'category': 'health', 'amount': 980.0, 'expense_description': 'Doctor consultation and medicines', 'date': '2025-09-08'}, 'E004': {'category': 'food', 'amount': 1.0, 'expense_description': 'string', 'date': '2025-09-09 12:44:47.864000+00:00'}, 'E007': {'category': 'travel', 'amount': 10000.0, 'expense_description': 'family trip', 'date': '2025-09-09 12:44:47.864000+00:00'}}\n"
     ]
    }
   ],
   "source": [
    "data=load_data()\n",
    "print(data)"
   ]
  },
  {
   "cell_type": "code",
   "execution_count": 16,
   "id": "e54e97cf",
   "metadata": {},
   "outputs": [],
   "source": [
    "dates_list=[]\n",
    "for item ,value in data.items():\n",
    "    # print(value['date'])\n",
    "    dates=value['date']\n",
    "    dates_list.append(dates)\n",
    "    # print(dates)\n",
    "    # print(type(dates))\n",
    "    "
   ]
  },
  {
   "cell_type": "code",
   "execution_count": 17,
   "id": "b2d41ef2",
   "metadata": {},
   "outputs": [
    {
     "data": {
      "text/plain": [
       "['2025-09-08',\n",
       " '2025-09-09 12:44:47.864000+00:00',\n",
       " '2025-09-09 12:44:47.864000+00:00']"
      ]
     },
     "execution_count": 17,
     "metadata": {},
     "output_type": "execute_result"
    }
   ],
   "source": [
    "dates_list"
   ]
  },
  {
   "cell_type": "code",
   "execution_count": null,
   "id": "ac608427",
   "metadata": {},
   "outputs": [
    {
     "ename": "NameError",
     "evalue": "name 'Query' is not defined",
     "output_type": "error",
     "traceback": [
      "\u001b[31m---------------------------------------------------------------------------\u001b[39m",
      "\u001b[31mNameError\u001b[39m                                 Traceback (most recent call last)",
      "\u001b[36mCell\u001b[39m\u001b[36m \u001b[39m\u001b[32mIn[18]\u001b[39m\u001b[32m, line 1\u001b[39m\n\u001b[32m----> \u001b[39m\u001b[32m1\u001b[39m \u001b[38;5;28;01mdef\u001b[39;00m\u001b[38;5;250m \u001b[39m\u001b[34mget_by_date_range\u001b[39m(start_date:\u001b[38;5;28mstr\u001b[39m=\u001b[43mQuery\u001b[49m(...,description=\u001b[33m\"\u001b[39m\u001b[33mEnter the start date in YYYY-MM-DD format\u001b[39m\u001b[33m\"\u001b[39m),end_date:\u001b[38;5;28mstr\u001b[39m=Query(...,description=\u001b[33m\"\u001b[39m\u001b[33mEnter the end date in YYYY-MM-DD format\u001b[39m\u001b[33m\"\u001b[39m)):\n\u001b[32m      2\u001b[39m     result=[]\n\u001b[32m      3\u001b[39m     \u001b[38;5;28;01mfor\u001b[39;00m item,value \u001b[38;5;129;01min\u001b[39;00m data.items():\n",
      "\u001b[31mNameError\u001b[39m: name 'Query' is not defined"
     ]
    }
   ],
   "source": [
    "def get_by_date_range(start_date:str=Query(...,description=\"Enter the start date in YYYY-MM-DD format\"),end_date:str=Query(...,description=\"Enter the end date in YYYY-MM-DD format\")):\n",
    "    dates_list=[]\n",
    "    for item ,value in data.items():\n",
    "        # print(value['date'])\n",
    "        dates=value['date']\n",
    "        dates_list.append(dates)\n",
    "\n",
    "    if start_date not in dates_list :\n",
    "        raise HTTPException(status_code=404,detail=\"Start Date not found in the records\")\n",
    "    if end_date not in dates_list :\n",
    "        raise HTTPException(status_code=404,detail=\"End Date not found in the records\")\n",
    "    \n",
    "    "
   ]
  },
  {
   "cell_type": "code",
   "execution_count": null,
   "id": "e03cf254",
   "metadata": {},
   "outputs": [],
   "source": []
  }
 ],
 "metadata": {
  "kernelspec": {
   "display_name": "myenv",
   "language": "python",
   "name": "python3"
  },
  "language_info": {
   "codemirror_mode": {
    "name": "ipython",
    "version": 3
   },
   "file_extension": ".py",
   "mimetype": "text/x-python",
   "name": "python",
   "nbconvert_exporter": "python",
   "pygments_lexer": "ipython3",
   "version": "3.12.8"
  }
 },
 "nbformat": 4,
 "nbformat_minor": 5
}
